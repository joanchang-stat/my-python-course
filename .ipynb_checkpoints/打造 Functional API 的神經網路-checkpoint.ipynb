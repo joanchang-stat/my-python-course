{
 "cells": [
  {
   "cell_type": "code",
   "execution_count": 3,
   "metadata": {},
   "outputs": [
    {
     "name": "stdout",
     "output_type": "stream",
     "text": [
      "env: KERAS_BACKEND=tensorflow\n"
     ]
    }
   ],
   "source": [
    "%env KERAS_BACKEND=tensorflow"
   ]
  },
  {
   "cell_type": "code",
   "execution_count": 19,
   "metadata": {},
   "outputs": [],
   "source": [
    "import numpy as np\n",
    "import matplotlib.pyplot as plt\n",
    "\n",
    "from keras.datasets import mnist\n",
    "\n",
    "from keras.layers import Dense, Activation\n",
    "from keras.layers import Input\n",
    "from keras.layers import concatenate, add\n",
    "from keras.models import Sequential\n",
    "from keras.models import Model\n",
    "\n",
    "from keras.optimizers import SGD, Adam\n",
    "\n",
    "from keras.utils import np_utils"
   ]
  },
  {
   "cell_type": "markdown",
   "metadata": {},
   "source": [
    "### 讀入資料"
   ]
  },
  {
   "cell_type": "code",
   "execution_count": 20,
   "metadata": {},
   "outputs": [],
   "source": [
    "(x_train, y_train), (x_test, y_test) = mnist.load_data()"
   ]
  },
  {
   "cell_type": "code",
   "execution_count": 21,
   "metadata": {},
   "outputs": [
    {
     "name": "stdout",
     "output_type": "stream",
     "text": [
      "訓練數量: 60000,大小: 28 x 28\n",
      "測試數量: 10000,大小: 28 x 28\n"
     ]
    }
   ],
   "source": [
    "print(\"訓練數量: %d,大小: %d x %d\" %x_train.shape)\n",
    "print(\"測試數量: %d,大小: %d x %d\" %x_test.shape)"
   ]
  },
  {
   "cell_type": "code",
   "execution_count": 22,
   "metadata": {},
   "outputs": [],
   "source": [
    "x_train = x_train.reshape(60000, 784)\n",
    "x_test  = x_test.reshape(10000, 784)\n",
    "y_train = np_utils.to_categorical(y_train, 10)\n",
    "y_test  = np_utils.to_categorical(y_test, 10)"
   ]
  },
  {
   "cell_type": "code",
   "execution_count": 23,
   "metadata": {},
   "outputs": [],
   "source": [
    "x_train1 = (x_train - x_train.min()) / (x_train.max() - x_train.min())\n",
    "x_test1 = (x_test - x_test.min()) / (x_test.max()- x_test.min())"
   ]
  },
  {
   "cell_type": "markdown",
   "metadata": {},
   "source": [
    "### function API"
   ]
  },
  {
   "cell_type": "code",
   "execution_count": 96,
   "metadata": {},
   "outputs": [],
   "source": [
    "import matplotlib.pyplot as plt\n",
    "import matplotlib.image as mpimg\n",
    "import numpy as np\n",
    "image = mpimg.imread(\"C:/Users/joan/Documents/python  course/functionalAPI.png\")"
   ]
  },
  {
   "cell_type": "code",
   "execution_count": 97,
   "metadata": {},
   "outputs": [
    {
     "name": "stderr",
     "output_type": "stream",
     "text": [
      "C:\\Program Files (x86)\\Microsoft Visual Studio\\Shared\\Anaconda3_64\\lib\\site-packages\\ipykernel_launcher.py:1: DeprecationWarning: `imresize` is deprecated!\n",
      "`imresize` is deprecated in SciPy 1.0.0, and will be removed in 1.2.0.\n",
      "Use ``skimage.transform.resize`` instead.\n",
      "  \"\"\"Entry point for launching an IPython kernel.\n"
     ]
    },
    {
     "data": {
      "image/png": "[encoded data removed]",
      "text/plain": [
       "<Figure size 432x288 with 1 Axes>"
      ]
     },
     "metadata": {},
     "output_type": "display_data"
    }
   ],
   "source": [
    "image_new_size = misc.imresize(image,(280,500)) \n",
    "\n",
    "plt.imshow(image_new_size)\n",
    "plt.axis('off')\n",
    "plt.show()"
   ]
  },
  {
   "cell_type": "code",
   "execution_count": 98,
   "metadata": {},
   "outputs": [],
   "source": [
    "f_1 = Dense(200, activation='relu')\n",
    "f_2 = Dense(200, activation='relu')\n",
    "f_3 = Dense(100, activation='elu')\n",
    "f_4 = Dense(100, activation='relu')\n",
    "f_5 = Dense(100, activation='elu')\n",
    "f_6 = Dense(100, activation='relu')\n",
    "f_7 = Dense(50, activation='relu')\n",
    "f_8 = Dense(150, activation='relu')\n",
    "f_9 = Dense(10, activation='relu')"
   ]
  },
  {
   "cell_type": "code",
   "execution_count": 100,
   "metadata": {},
   "outputs": [],
   "source": [
    "x = Input(shape=(784,))"
   ]
  },
  {
   "cell_type": "code",
   "execution_count": 101,
   "metadata": {},
   "outputs": [
    {
     "name": "stdout",
     "output_type": "stream",
     "text": [
      "WARNING:tensorflow:From C:\\Program Files (x86)\\Microsoft Visual Studio\\Shared\\Anaconda3_64\\lib\\site-packages\\tensorflow\\python\\framework\\op_def_library.py:263: colocate_with (from tensorflow.python.framework.ops) is deprecated and will be removed in a future version.\n",
      "Instructions for updating:\n",
      "Colocations handled automatically by placer.\n"
     ]
    }
   ],
   "source": [
    "h_1 = f_1(x)\n",
    "h_2 = f_2(x)\n",
    "h_3 = f_3(h_1)\n",
    "h_4 = f_4(h_1)\n",
    "h_5 = f_5(h_2)\n",
    "h_6 = f_6(h_2)\n",
    "u = concatenate([h_3, h_4,h_5,h_6])\n",
    "h_8 = f_7(u)\n",
    "h_9 = f_8(u)\n",
    "k = concatenate([h_8, h_9])\n",
    "y =f_9(k)"
   ]
  },
  {
   "cell_type": "code",
   "execution_count": 102,
   "metadata": {},
   "outputs": [
    {
     "name": "stdout",
     "output_type": "stream",
     "text": [
      "__________________________________________________________________________________________________\n",
      "Layer (type)                    Output Shape         Param #     Connected to                     \n",
      "==================================================================================================\n",
      "input_1 (InputLayer)            (None, 784)          0                                            \n",
      "__________________________________________________________________________________________________\n",
      "dense_1 (Dense)                 (None, 200)          157000      input_1[0][0]                    \n",
      "__________________________________________________________________________________________________\n",
      "dense_2 (Dense)                 (None, 200)          157000      input_1[0][0]                    \n",
      "__________________________________________________________________________________________________\n",
      "dense_3 (Dense)                 (None, 100)          20100       dense_1[0][0]                    \n",
      "__________________________________________________________________________________________________\n",
      "dense_4 (Dense)                 (None, 100)          20100       dense_1[0][0]                    \n",
      "__________________________________________________________________________________________________\n",
      "dense_5 (Dense)                 (None, 100)          20100       dense_2[0][0]                    \n",
      "__________________________________________________________________________________________________\n",
      "dense_6 (Dense)                 (None, 100)          20100       dense_2[0][0]                    \n",
      "__________________________________________________________________________________________________\n",
      "concatenate_1 (Concatenate)     (None, 400)          0           dense_3[0][0]                    \n",
      "                                                                 dense_4[0][0]                    \n",
      "                                                                 dense_5[0][0]                    \n",
      "                                                                 dense_6[0][0]                    \n",
      "__________________________________________________________________________________________________\n",
      "dense_7 (Dense)                 (None, 50)           20050       concatenate_1[0][0]              \n",
      "__________________________________________________________________________________________________\n",
      "dense_8 (Dense)                 (None, 150)          60150       concatenate_1[0][0]              \n",
      "__________________________________________________________________________________________________\n",
      "concatenate_2 (Concatenate)     (None, 200)          0           dense_7[0][0]                    \n",
      "                                                                 dense_8[0][0]                    \n",
      "__________________________________________________________________________________________________\n",
      "dense_9 (Dense)                 (None, 10)           2010        concatenate_2[0][0]              \n",
      "==================================================================================================\n",
      "Total params: 476,610\n",
      "Trainable params: 476,610\n",
      "Non-trainable params: 0\n",
      "__________________________________________________________________________________________________\n"
     ]
    }
   ],
   "source": [
    "model = Model(x, y)\n",
    "model.summary()"
   ]
  },
  {
   "cell_type": "code",
   "execution_count": 107,
   "metadata": {},
   "outputs": [
    {
     "name": "stdout",
     "output_type": "stream",
     "text": [
      "Epoch 1/50\n",
      "60000/60000 [==============================] - 3s 48us/step - loss: 0.0212 - acc: 0.9211\n",
      "Epoch 2/50\n",
      "60000/60000 [==============================] - 3s 43us/step - loss: 0.0211 - acc: 0.9216\n",
      "Epoch 3/50\n",
      "60000/60000 [==============================] - 3s 55us/step - loss: 0.0210 - acc: 0.9225\n",
      "Epoch 4/50\n",
      "60000/60000 [==============================] - 6s 93us/step - loss: 0.0209 - acc: 0.9231\n",
      "Epoch 5/50\n",
      "60000/60000 [==============================] - 6s 93us/step - loss: 0.0208 - acc: 0.9239\n",
      "Epoch 6/50\n",
      "60000/60000 [==============================] - 6s 94us/step - loss: 0.0207 - acc: 0.9246: 1s - \n",
      "Epoch 7/50\n",
      "60000/60000 [==============================] - 6s 95us/step - loss: 0.0206 - acc: 0.9253\n",
      "Epoch 8/50\n",
      "60000/60000 [==============================] - 6s 95us/step - loss: 0.0205 - acc: 0.9255\n",
      "Epoch 9/50\n",
      "60000/60000 [==============================] - 6s 94us/step - loss: 0.0204 - acc: 0.9262\n",
      "Epoch 10/50\n",
      "60000/60000 [==============================] - 5s 90us/step - loss: 0.0203 - acc: 0.9263\n",
      "Epoch 11/50\n",
      "60000/60000 [==============================] - 5s 88us/step - loss: 0.0203 - acc: 0.9274: 0s - loss: 0.0202 - acc:\n",
      "Epoch 12/50\n",
      "60000/60000 [==============================] - 5s 88us/step - loss: 0.0202 - acc: 0.9279\n",
      "Epoch 13/50\n",
      "60000/60000 [==============================] - 5s 89us/step - loss: 0.0201 - acc: 0.9285\n",
      "Epoch 14/50\n",
      "60000/60000 [==============================] - 5s 88us/step - loss: 0.0200 - acc: 0.9288\n",
      "Epoch 15/50\n",
      "60000/60000 [==============================] - 5s 88us/step - loss: 0.0199 - acc: 0.9292\n",
      "Epoch 16/50\n",
      "60000/60000 [==============================] - 5s 90us/step - loss: 0.0199 - acc: 0.9298\n",
      "Epoch 17/50\n",
      "60000/60000 [==============================] - 5s 90us/step - loss: 0.0198 - acc: 0.9304\n",
      "Epoch 18/50\n",
      "60000/60000 [==============================] - 6s 92us/step - loss: 0.0197 - acc: 0.9306\n",
      "Epoch 19/50\n",
      "60000/60000 [==============================] - 5s 90us/step - loss: 0.0197 - acc: 0.9310\n",
      "Epoch 20/50\n",
      "60000/60000 [==============================] - 5s 90us/step - loss: 0.0196 - acc: 0.9314\n",
      "Epoch 21/50\n",
      "60000/60000 [==============================] - 5s 90us/step - loss: 0.0195 - acc: 0.9315\n",
      "Epoch 22/50\n",
      "60000/60000 [==============================] - 5s 87us/step - loss: 0.0195 - acc: 0.9322\n",
      "Epoch 23/50\n",
      "60000/60000 [==============================] - 5s 87us/step - loss: 0.0194 - acc: 0.9326\n",
      "Epoch 24/50\n",
      "60000/60000 [==============================] - 5s 85us/step - loss: 0.0193 - acc: 0.9333\n",
      "Epoch 25/50\n",
      "60000/60000 [==============================] - 5s 81us/step - loss: 0.0193 - acc: 0.9331\n",
      "Epoch 26/50\n",
      "60000/60000 [==============================] - 5s 83us/step - loss: 0.0192 - acc: 0.9339: 0s - loss: 0.0192 - acc: \n",
      "Epoch 27/50\n",
      "60000/60000 [==============================] - 5s 85us/step - loss: 0.0192 - acc: 0.9344\n",
      "Epoch 28/50\n",
      "60000/60000 [==============================] - 5s 91us/step - loss: 0.0191 - acc: 0.9349\n",
      "Epoch 29/50\n",
      "60000/60000 [==============================] - 6s 93us/step - loss: 0.0190 - acc: 0.9349\n",
      "Epoch 30/50\n",
      "60000/60000 [==============================] - 5s 90us/step - loss: 0.0190 - acc: 0.9354\n",
      "Epoch 31/50\n",
      "60000/60000 [==============================] - 5s 90us/step - loss: 0.0189 - acc: 0.9360\n",
      "Epoch 32/50\n",
      "60000/60000 [==============================] - 5s 90us/step - loss: 0.0189 - acc: 0.9364\n",
      "Epoch 33/50\n",
      "60000/60000 [==============================] - 5s 90us/step - loss: 0.0188 - acc: 0.9366\n",
      "Epoch 34/50\n",
      "60000/60000 [==============================] - 5s 89us/step - loss: 0.0188 - acc: 0.9370\n",
      "Epoch 35/50\n",
      "60000/60000 [==============================] - 5s 90us/step - loss: 0.0187 - acc: 0.9377\n",
      "Epoch 36/50\n",
      "60000/60000 [==============================] - 5s 90us/step - loss: 0.0187 - acc: 0.9378\n",
      "Epoch 37/50\n",
      "60000/60000 [==============================] - 5s 90us/step - loss: 0.0186 - acc: 0.9383\n",
      "Epoch 38/50\n",
      "60000/60000 [==============================] - 5s 89us/step - loss: 0.0186 - acc: 0.9386\n",
      "Epoch 39/50\n",
      "60000/60000 [==============================] - 5s 90us/step - loss: 0.0185 - acc: 0.9389\n",
      "Epoch 40/50\n",
      "60000/60000 [==============================] - 5s 90us/step - loss: 0.0185 - acc: 0.9392\n",
      "Epoch 41/50\n",
      "60000/60000 [==============================] - 5s 90us/step - loss: 0.0184 - acc: 0.9395\n",
      "Epoch 42/50\n",
      "60000/60000 [==============================] - 5s 91us/step - loss: 0.0184 - acc: 0.9394\n",
      "Epoch 43/50\n",
      "60000/60000 [==============================] - 5s 90us/step - loss: 0.0183 - acc: 0.9401\n",
      "Epoch 44/50\n",
      "60000/60000 [==============================] - 5s 90us/step - loss: 0.0183 - acc: 0.9401\n",
      "Epoch 45/50\n",
      "60000/60000 [==============================] - 5s 91us/step - loss: 0.0183 - acc: 0.9404\n",
      "Epoch 46/50\n",
      "60000/60000 [==============================] - 5s 87us/step - loss: 0.0182 - acc: 0.9410\n",
      "Epoch 47/50\n",
      "60000/60000 [==============================] - 5s 91us/step - loss: 0.0182 - acc: 0.9412\n",
      "Epoch 48/50\n",
      "60000/60000 [==============================] - 5s 90us/step - loss: 0.0181 - acc: 0.9413\n",
      "Epoch 49/50\n",
      "60000/60000 [==============================] - 6s 93us/step - loss: 0.0181 - acc: 0.9414\n",
      "Epoch 50/50\n",
      "60000/60000 [==============================] - 6s 92us/step - loss: 0.0180 - acc: 0.9421\n"
     ]
    }
   ],
   "source": [
    "model.compile(loss='mse', optimizer=SGD(lr=0.01), metrics=['accuracy'])\n",
    "X = model.fit(x_train1, y_train, batch_size=100, epochs=50)"
   ]
  },
  {
   "cell_type": "code",
   "execution_count": 108,
   "metadata": {},
   "outputs": [
    {
     "name": "stdout",
     "output_type": "stream",
     "text": [
      "10000/10000 [==============================] - 1s 80us/step\n",
      "model:\n",
      "loss: 0.01858452279418707\n",
      "正確率: 0.9364\n"
     ]
    }
   ],
   "source": [
    "score = model.evaluate(x_test1, y_test)\n",
    "print('model:')\n",
    "print('loss:', score[0])\n",
    "print('正確率:', score[1])"
   ]
  },
  {
   "cell_type": "code",
   "execution_count": 112,
   "metadata": {},
   "outputs": [
    {
     "data": {
      "text/plain": [
       "Text(0,0.5,'accuracy')"
      ]
     },
     "execution_count": 112,
     "metadata": {},
     "output_type": "execute_result"
    },
    {
     "data": {
      "image/png": "[encoded data removed]",
      "text/plain": [
       "<Figure size 432x288 with 1 Axes>"
      ]
     },
     "metadata": {},
     "output_type": "display_data"
    }
   ],
   "source": [
    "plt.plot(X.history['acc'])\n",
    "plt.xlabel('epoch')\n",
    "plt.ylabel('accuracy')"
   ]
  },
  {
   "cell_type": "code",
   "execution_count": 111,
   "metadata": {},
   "outputs": [
    {
     "data": {
      "text/plain": [
       "Text(0,0.5,'Loss')"
      ]
     },
     "execution_count": 111,
     "metadata": {},
     "output_type": "execute_result"
    },
    {
     "data": {
      "image/png": "[encoded data removed]",
      "text/plain": [
       "<Figure size 432x288 with 1 Axes>"
      ]
     },
     "metadata": {},
     "output_type": "display_data"
    }
   ],
   "source": [
    "plt.plot(X.history['loss'])\n",
    "plt.xlabel('epoch')\n",
    "plt.ylabel('Loss')"
   ]
  },
  {
   "cell_type": "code",
   "execution_count": null,
   "metadata": {},
   "outputs": [],
   "source": []
  }
 ],
 "metadata": {
  "kernelspec": {
   "display_name": "Python 3",
   "language": "python",
   "name": "python3"
  },
  "language_info": {
   "codemirror_mode": {
    "name": "ipython",
    "version": 3
   },
   "file_extension": ".py",
   "mimetype": "text/x-python",
   "name": "python",
   "nbconvert_exporter": "python",
   "pygments_lexer": "ipython3",
   "version": "3.6.5"
  }
 },
 "nbformat": 4,
 "nbformat_minor": 2
}
