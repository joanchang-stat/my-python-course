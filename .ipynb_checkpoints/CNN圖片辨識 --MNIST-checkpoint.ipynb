{
 "cells": [
  {
   "cell_type": "markdown",
   "metadata": {},
   "source": [
    "### 1.  讀入數據庫"
   ]
  },
  {
   "cell_type": "code",
   "execution_count": 1,
   "metadata": {},
   "outputs": [
    {
     "name": "stdout",
     "output_type": "stream",
     "text": [
      "env: KERAS_BACKEND=tensorflow\n"
     ]
    }
   ],
   "source": [
    "%env KERAS_BACKEND=tensorflow"
   ]
  },
  {
   "cell_type": "code",
   "execution_count": 2,
   "metadata": {},
   "outputs": [
    {
     "name": "stderr",
     "output_type": "stream",
     "text": [
      "C:\\Program Files (x86)\\Microsoft Visual Studio\\Shared\\Anaconda3_64\\lib\\site-packages\\h5py\\__init__.py:36: FutureWarning: Conversion of the second argument of issubdtype from `float` to `np.floating` is deprecated. In future, it will be treated as `np.float64 == np.dtype(float).type`.\n",
      "  from ._conv import register_converters as _register_converters\n",
      "Using TensorFlow backend.\n"
     ]
    }
   ],
   "source": [
    "%matplotlib inline\n",
    "import numpy as np\n",
    "import matplotlib.pyplot as plt\n",
    "from keras.datasets import mnist\n",
    "(x_train,y_train),(x_test,y_test) = mnist.load_data()"
   ]
  },
  {
   "cell_type": "markdown",
   "metadata": {},
   "source": [
    "### 2. 資料前處理"
   ]
  },
  {
   "cell_type": "code",
   "execution_count": 4,
   "metadata": {},
   "outputs": [],
   "source": [
    "x_train = x_train.reshape(60000,28,28,1)\n",
    "x_test = x_test.reshape(10000,28,28,1)   #CNN要的是(28,28,1)"
   ]
  },
  {
   "cell_type": "code",
   "execution_count": 5,
   "metadata": {},
   "outputs": [],
   "source": [
    "from keras.utils import np_utils"
   ]
  },
  {
   "cell_type": "code",
   "execution_count": 6,
   "metadata": {},
   "outputs": [],
   "source": [
    "y_train = np_utils.to_categorical(y_train,10)\n",
    "y_test = np_utils.to_categorical(y_test,10)"
   ]
  },
  {
   "cell_type": "code",
   "execution_count": 7,
   "metadata": {},
   "outputs": [],
   "source": [
    "x_train = x_train/x_train.max()\n",
    "x_test = x_test/x_test.max()    # normalize"
   ]
  },
  {
   "cell_type": "code",
   "execution_count": 10,
   "metadata": {},
   "outputs": [],
   "source": [
    "from keras.models import Sequential\n",
    "from keras.layers import Dense,Activation,Flatten\n",
    "from keras.layers import Conv2D,MaxPool2D\n",
    "from keras.optimizers import SGD,Adadelta"
   ]
  },
  {
   "cell_type": "markdown",
   "metadata": {},
   "source": [
    "### 開始建模 model 1"
   ]
  },
  {
   "cell_type": "markdown",
   "metadata": {},
   "source": [
    "改為 4x4 的 filter，每層filter增加，把loss function 改為 categorical_crossentropy，optimizer改為 Adadelta()"
   ]
  },
  {
   "cell_type": "code",
   "execution_count": 12,
   "metadata": {},
   "outputs": [
    {
     "name": "stdout",
     "output_type": "stream",
     "text": [
      "_________________________________________________________________\n",
      "Layer (type)                 Output Shape              Param #   \n",
      "=================================================================\n",
      "conv2d_7 (Conv2D)            (None, 28, 28, 8)         136       \n",
      "_________________________________________________________________\n",
      "activation_11 (Activation)   (None, 28, 28, 8)         0         \n",
      "_________________________________________________________________\n",
      "max_pooling2d_7 (MaxPooling2 (None, 14, 14, 8)         0         \n",
      "_________________________________________________________________\n",
      "conv2d_8 (Conv2D)            (None, 14, 14, 16)        2064      \n",
      "_________________________________________________________________\n",
      "activation_12 (Activation)   (None, 14, 14, 16)        0         \n",
      "_________________________________________________________________\n",
      "max_pooling2d_8 (MaxPooling2 (None, 7, 7, 16)          0         \n",
      "_________________________________________________________________\n",
      "conv2d_9 (Conv2D)            (None, 7, 7, 24)          6168      \n",
      "_________________________________________________________________\n",
      "activation_13 (Activation)   (None, 7, 7, 24)          0         \n",
      "_________________________________________________________________\n",
      "max_pooling2d_9 (MaxPooling2 (None, 3, 3, 24)          0         \n",
      "_________________________________________________________________\n",
      "flatten_3 (Flatten)          (None, 216)               0         \n",
      "_________________________________________________________________\n",
      "dense_5 (Dense)              (None, 9)                 1953      \n",
      "_________________________________________________________________\n",
      "activation_14 (Activation)   (None, 9)                 0         \n",
      "_________________________________________________________________\n",
      "dense_6 (Dense)              (None, 10)                100       \n",
      "_________________________________________________________________\n",
      "activation_15 (Activation)   (None, 10)                0         \n",
      "=================================================================\n",
      "Total params: 10,421\n",
      "Trainable params: 10,421\n",
      "Non-trainable params: 0\n",
      "_________________________________________________________________\n"
     ]
    }
   ],
   "source": [
    "model = Sequential()\n",
    "\n",
    "model.add(Conv2D(8,(4,4),padding ='same',input_shape =(28,28,1)))\n",
    "model.add(Activation('relu'))\n",
    "\n",
    "model.add(MaxPool2D(pool_size =(2,2)))\n",
    "\n",
    "model.add(Conv2D(16,(4,4),padding ='same'))\n",
    "model.add(Activation('relu'))\n",
    "\n",
    "model.add(MaxPool2D(pool_size =(2,2)))\n",
    "\n",
    "model.add(Conv2D(24,(4,4),padding ='same'))\n",
    "model.add(Activation('relu'))\n",
    "\n",
    "model.add(MaxPool2D(pool_size =(2,2)))\n",
    "\n",
    "model.add(Flatten())\n",
    "model.add(Dense(9))\n",
    "model.add(Activation('relu'))\n",
    "\n",
    "model.add(Dense(10))\n",
    "model.add(Activation('softmax'))\n",
    "\n",
    "model.compile(loss =\"categorical_crossentropy\",optimizer = Adadelta(lr=0.07),metrics=['accuracy'])\n",
    "#model.compile(loss ='mse',optimizer = SGD(lr=0.07),metrics =['accuracy'])\n",
    "model.summary()"
   ]
  },
  {
   "cell_type": "code",
   "execution_count": 13,
   "metadata": {},
   "outputs": [
    {
     "name": "stdout",
     "output_type": "stream",
     "text": [
      "WARNING:tensorflow:From C:\\Program Files (x86)\\Microsoft Visual Studio\\Shared\\Anaconda3_64\\lib\\site-packages\\tensorflow\\python\\ops\\math_ops.py:3066: to_int32 (from tensorflow.python.ops.math_ops) is deprecated and will be removed in a future version.\n",
      "Instructions for updating:\n",
      "Use tf.cast instead.\n",
      "Train on 60000 samples, validate on 10000 samples\n",
      "Epoch 1/20\n",
      "60000/60000 [==============================] - 19s 310us/step - loss: 1.2994 - acc: 0.5545 - val_loss: 0.4263 - val_acc: 0.8745\n",
      "Epoch 2/20\n",
      "60000/60000 [==============================] - 21s 351us/step - loss: 0.3437 - acc: 0.8985 - val_loss: 0.2677 - val_acc: 0.9209\n",
      "Epoch 3/20\n",
      "60000/60000 [==============================] - 22s 364us/step - loss: 0.2620 - acc: 0.9232 - val_loss: 0.2247 - val_acc: 0.9341\n",
      "Epoch 4/20\n",
      "60000/60000 [==============================] - 22s 364us/step - loss: 0.2291 - acc: 0.9333 - val_loss: 0.1969 - val_acc: 0.9414\n",
      "Epoch 5/20\n",
      "60000/60000 [==============================] - 22s 363us/step - loss: 0.2065 - acc: 0.9402 - val_loss: 0.1781 - val_acc: 0.9471\n",
      "Epoch 6/20\n",
      "60000/60000 [==============================] - 22s 364us/step - loss: 0.1890 - acc: 0.9452 - val_loss: 0.1642 - val_acc: 0.9503\n",
      "Epoch 7/20\n",
      "60000/60000 [==============================] - 23s 391us/step - loss: 0.1752 - acc: 0.9483 - val_loss: 0.1550 - val_acc: 0.9525\n",
      "Epoch 8/20\n",
      "60000/60000 [==============================] - 22s 363us/step - loss: 0.1630 - acc: 0.9526 - val_loss: 0.1409 - val_acc: 0.9561\n",
      "Epoch 9/20\n",
      "60000/60000 [==============================] - 22s 373us/step - loss: 0.1529 - acc: 0.9550 - val_loss: 0.1338 - val_acc: 0.9582\n",
      "Epoch 10/20\n",
      "60000/60000 [==============================] - 23s 375us/step - loss: 0.1441 - acc: 0.9571 - val_loss: 0.1265 - val_acc: 0.9602\n",
      "Epoch 11/20\n",
      "60000/60000 [==============================] - 22s 374us/step - loss: 0.1367 - acc: 0.9591 - val_loss: 0.1209 - val_acc: 0.9623\n",
      "Epoch 12/20\n",
      "60000/60000 [==============================] - 22s 375us/step - loss: 0.1303 - acc: 0.9610 - val_loss: 0.1156 - val_acc: 0.9630\n",
      "Epoch 13/20\n",
      "60000/60000 [==============================] - 22s 371us/step - loss: 0.1246 - acc: 0.9621 - val_loss: 0.1099 - val_acc: 0.9632\n",
      "Epoch 14/20\n",
      "60000/60000 [==============================] - 22s 370us/step - loss: 0.1192 - acc: 0.9646 - val_loss: 0.1075 - val_acc: 0.9666\n",
      "Epoch 15/20\n",
      "60000/60000 [==============================] - 22s 372us/step - loss: 0.1147 - acc: 0.9651 - val_loss: 0.1092 - val_acc: 0.9673\n",
      "Epoch 16/20\n",
      "60000/60000 [==============================] - 23s 388us/step - loss: 0.1107 - acc: 0.9667 - val_loss: 0.1000 - val_acc: 0.9671\n",
      "Epoch 17/20\n",
      "60000/60000 [==============================] - 24s 397us/step - loss: 0.1071 - acc: 0.9676 - val_loss: 0.0966 - val_acc: 0.9686\n",
      "Epoch 18/20\n",
      "60000/60000 [==============================] - 24s 393us/step - loss: 0.1034 - acc: 0.9687 - val_loss: 0.0946 - val_acc: 0.9693\n",
      "Epoch 19/20\n",
      "60000/60000 [==============================] - 24s 393us/step - loss: 0.1005 - acc: 0.9693 - val_loss: 0.0946 - val_acc: 0.9698\n",
      "Epoch 20/20\n",
      "60000/60000 [==============================] - 24s 392us/step - loss: 0.0972 - acc: 0.9706 - val_loss: 0.0909 - val_acc: 0.9711\n"
     ]
    },
    {
     "data": {
      "text/plain": [
       "<keras.callbacks.History at 0x14615a0a160>"
      ]
     },
     "execution_count": 13,
     "metadata": {},
     "output_type": "execute_result"
    }
   ],
   "source": [
    "model.fit(x_train, y_train, batch_size=100, epochs=20,verbose =1,validation_data = (x_test,y_test))"
   ]
  },
  {
   "cell_type": "markdown",
   "metadata": {},
   "source": [
    "### 準確率為 97.11%"
   ]
  },
  {
   "cell_type": "code",
   "execution_count": 14,
   "metadata": {},
   "outputs": [
    {
     "name": "stdout",
     "output_type": "stream",
     "text": [
      "10000/10000 [==============================] - 1s 145us/step\n",
      "model:\n",
      "loss: 0.09091548901442438\n",
      "正確率: 0.9711\n"
     ]
    }
   ],
   "source": [
    "score = model.evaluate(x_test, y_test)\n",
    "print('model:')\n",
    "print('loss:', score[0])\n",
    "print('正確率:', score[1])"
   ]
  },
  {
   "cell_type": "markdown",
   "metadata": {},
   "source": [
    "### 開始建模 model 2"
   ]
  },
  {
   "cell_type": "markdown",
   "metadata": {},
   "source": [
    "改為 4x4 的 filter，每層filter增加，把loss function 改為 binary_crossentropy，optimizer改為 Adadelta()"
   ]
  },
  {
   "cell_type": "code",
   "execution_count": 17,
   "metadata": {},
   "outputs": [
    {
     "name": "stdout",
     "output_type": "stream",
     "text": [
      "_________________________________________________________________\n",
      "Layer (type)                 Output Shape              Param #   \n",
      "=================================================================\n",
      "conv2d_18 (Conv2D)           (None, 28, 28, 8)         136       \n",
      "_________________________________________________________________\n",
      "activation_28 (Activation)   (None, 28, 28, 8)         0         \n",
      "_________________________________________________________________\n",
      "max_pooling2d_18 (MaxPooling (None, 14, 14, 8)         0         \n",
      "_________________________________________________________________\n",
      "conv2d_19 (Conv2D)           (None, 14, 14, 16)        2064      \n",
      "_________________________________________________________________\n",
      "activation_29 (Activation)   (None, 14, 14, 16)        0         \n",
      "_________________________________________________________________\n",
      "max_pooling2d_19 (MaxPooling (None, 7, 7, 16)          0         \n",
      "_________________________________________________________________\n",
      "conv2d_20 (Conv2D)           (None, 7, 7, 24)          6168      \n",
      "_________________________________________________________________\n",
      "activation_30 (Activation)   (None, 7, 7, 24)          0         \n",
      "_________________________________________________________________\n",
      "max_pooling2d_20 (MaxPooling (None, 3, 3, 24)          0         \n",
      "_________________________________________________________________\n",
      "conv2d_21 (Conv2D)           (None, 3, 3, 32)          12320     \n",
      "_________________________________________________________________\n",
      "activation_31 (Activation)   (None, 3, 3, 32)          0         \n",
      "_________________________________________________________________\n",
      "max_pooling2d_21 (MaxPooling (None, 1, 1, 32)          0         \n",
      "_________________________________________________________________\n",
      "flatten_6 (Flatten)          (None, 32)                0         \n",
      "_________________________________________________________________\n",
      "dense_11 (Dense)             (None, 9)                 297       \n",
      "_________________________________________________________________\n",
      "activation_32 (Activation)   (None, 9)                 0         \n",
      "_________________________________________________________________\n",
      "dense_12 (Dense)             (None, 10)                100       \n",
      "_________________________________________________________________\n",
      "activation_33 (Activation)   (None, 10)                0         \n",
      "=================================================================\n",
      "Total params: 21,085\n",
      "Trainable params: 21,085\n",
      "Non-trainable params: 0\n",
      "_________________________________________________________________\n"
     ]
    }
   ],
   "source": [
    "model2 = Sequential()\n",
    "\n",
    "model2.add(Conv2D(8, (4, 4), padding='same', input_shape=(28, 28, 1))) \n",
    "model2.add(Activation('relu'))\n",
    "model2.add(MaxPool2D(pool_size=(2, 2)))\n",
    "\n",
    "model2.add(Conv2D(16, (4, 4), padding='same'))\n",
    "model2.add(Activation('relu'))\n",
    "model2.add(MaxPool2D(pool_size=(2, 2)))\n",
    "\n",
    "model2.add(Conv2D(24, (4, 4), padding='same'))\n",
    "model2.add(Activation('relu'))\n",
    "model2.add(MaxPool2D(pool_size=(2, 2)))\n",
    "\n",
    "model2.add(Conv2D(32, (4, 4), padding='same'))\n",
    "model2.add(Activation('relu'))\n",
    "model2.add(MaxPool2D(pool_size=(2, 2)))\n",
    "\n",
    "model2.add(Flatten())\n",
    "model2.add(Dense(9))\n",
    "model2.add(Activation('relu'))\n",
    "\n",
    "model2.add(Dense(10))\n",
    "model2.add(Activation('softmax'))\n",
    "\n",
    "model2.compile(loss='binary_crossentropy', optimizer= Adadelta(lr=0.07), metrics=['accuracy'])\n",
    "model2.summary()"
   ]
  },
  {
   "cell_type": "code",
   "execution_count": 18,
   "metadata": {},
   "outputs": [
    {
     "name": "stdout",
     "output_type": "stream",
     "text": [
      "Train on 60000 samples, validate on 10000 samples\n",
      "Epoch 1/20\n",
      "60000/60000 [==============================] - 21s 344us/step - loss: 0.3105 - acc: 0.9004 - val_loss: 0.2691 - val_acc: 0.9073\n",
      "Epoch 2/20\n",
      "60000/60000 [==============================] - 24s 393us/step - loss: 0.1903 - acc: 0.9314 - val_loss: 0.1257 - val_acc: 0.9501\n",
      "Epoch 3/20\n",
      "60000/60000 [==============================] - 25s 410us/step - loss: 0.0887 - acc: 0.9709 - val_loss: 0.0679 - val_acc: 0.9787\n",
      "Epoch 4/20\n",
      "60000/60000 [==============================] - 24s 394us/step - loss: 0.0617 - acc: 0.9803 - val_loss: 0.0527 - val_acc: 0.9831\n",
      "Epoch 5/20\n",
      "60000/60000 [==============================] - 24s 392us/step - loss: 0.0506 - acc: 0.9838 - val_loss: 0.0455 - val_acc: 0.9854\n",
      "Epoch 6/20\n",
      "60000/60000 [==============================] - 23s 386us/step - loss: 0.0440 - acc: 0.9856 - val_loss: 0.0389 - val_acc: 0.9877\n",
      "Epoch 7/20\n",
      "60000/60000 [==============================] - 23s 383us/step - loss: 0.0394 - acc: 0.9871 - val_loss: 0.0364 - val_acc: 0.9884\n",
      "Epoch 8/20\n",
      "60000/60000 [==============================] - 24s 393us/step - loss: 0.0360 - acc: 0.9883 - val_loss: 0.0329 - val_acc: 0.9895\n",
      "Epoch 9/20\n",
      "60000/60000 [==============================] - 24s 401us/step - loss: 0.0333 - acc: 0.9892 - val_loss: 0.0308 - val_acc: 0.9899\n",
      "Epoch 10/20\n",
      "60000/60000 [==============================] - 24s 395us/step - loss: 0.0311 - acc: 0.9899 - val_loss: 0.0296 - val_acc: 0.9907\n",
      "Epoch 11/20\n",
      "60000/60000 [==============================] - 24s 402us/step - loss: 0.0289 - acc: 0.9907 - val_loss: 0.0266 - val_acc: 0.9915\n",
      "Epoch 12/20\n",
      "60000/60000 [==============================] - 25s 415us/step - loss: 0.0273 - acc: 0.9912 - val_loss: 0.0257 - val_acc: 0.9917\n",
      "Epoch 13/20\n",
      "60000/60000 [==============================] - 25s 408us/step - loss: 0.0260 - acc: 0.9915 - val_loss: 0.0248 - val_acc: 0.9923\n",
      "Epoch 14/20\n",
      "60000/60000 [==============================] - 24s 399us/step - loss: 0.0247 - acc: 0.9921 - val_loss: 0.0245 - val_acc: 0.9922\n",
      "Epoch 15/20\n",
      "60000/60000 [==============================] - 25s 410us/step - loss: 0.0235 - acc: 0.9924 - val_loss: 0.0233 - val_acc: 0.9927\n",
      "Epoch 16/20\n",
      "60000/60000 [==============================] - 25s 420us/step - loss: 0.0227 - acc: 0.9926 - val_loss: 0.0213 - val_acc: 0.9933\n",
      "Epoch 17/20\n",
      "60000/60000 [==============================] - 25s 415us/step - loss: 0.0215 - acc: 0.9930 - val_loss: 0.0208 - val_acc: 0.9935\n",
      "Epoch 18/20\n",
      "60000/60000 [==============================] - 27s 450us/step - loss: 0.0207 - acc: 0.9934 - val_loss: 0.0212 - val_acc: 0.9931\n",
      "Epoch 19/20\n",
      "60000/60000 [==============================] - 25s 411us/step - loss: 0.0200 - acc: 0.9935 - val_loss: 0.0195 - val_acc: 0.9938\n",
      "Epoch 20/20\n",
      "60000/60000 [==============================] - 25s 420us/step - loss: 0.0192 - acc: 0.9938 - val_loss: 0.0194 - val_acc: 0.9939\n"
     ]
    },
    {
     "data": {
      "text/plain": [
       "<keras.callbacks.History at 0x14616044f28>"
      ]
     },
     "execution_count": 18,
     "metadata": {},
     "output_type": "execute_result"
    }
   ],
   "source": [
    "model2.fit(x_train, y_train, batch_size=100, epochs=20,verbose =1,validation_data = (x_test,y_test))"
   ]
  },
  {
   "cell_type": "markdown",
   "metadata": {},
   "source": [
    "### 準確率達 99.38%"
   ]
  },
  {
   "cell_type": "code",
   "execution_count": 24,
   "metadata": {},
   "outputs": [
    {
     "name": "stdout",
     "output_type": "stream",
     "text": [
      "10000/10000 [==============================] - 2s 160us/step\n",
      "model:\n",
      "loss: 0.019430833759438246\n",
      "正確率: 0.9938499980926514\n"
     ]
    }
   ],
   "source": [
    "score1 = model2.evaluate(x_test, y_test)\n",
    "print('model:')\n",
    "print('loss:', score1[0])\n",
    "print('正確率:', score1[1])"
   ]
  },
  {
   "cell_type": "code",
   "execution_count": null,
   "metadata": {},
   "outputs": [],
   "source": []
  }
 ],
 "metadata": {
  "kernelspec": {
   "display_name": "Python 3",
   "language": "python",
   "name": "python3"
  },
  "language_info": {
   "codemirror_mode": {
    "name": "ipython",
    "version": 3
   },
   "file_extension": ".py",
   "mimetype": "text/x-python",
   "name": "python",
   "nbconvert_exporter": "python",
   "pygments_lexer": "ipython3",
   "version": "3.6.5"
  }
 },
 "nbformat": 4,
 "nbformat_minor": 2
}
