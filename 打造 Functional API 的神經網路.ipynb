{
 "cells": [
  {
   "cell_type": "code",
   "execution_count": 1,
   "metadata": {},
   "outputs": [
    {
     "name": "stdout",
     "output_type": "stream",
     "text": [
      "env: KERAS_BACKEND=tensorflow\n"
     ]
    }
   ],
   "source": [
    "%env KERAS_BACKEND=tensorflow"
   ]
  },
  {
   "cell_type": "code",
   "execution_count": 2,
   "metadata": {},
   "outputs": [
    {
     "name": "stderr",
     "output_type": "stream",
     "text": [
      "C:\\Program Files (x86)\\Microsoft Visual Studio\\Shared\\Anaconda3_64\\lib\\site-packages\\h5py\\__init__.py:36: FutureWarning: Conversion of the second argument of issubdtype from `float` to `np.floating` is deprecated. In future, it will be treated as `np.float64 == np.dtype(float).type`.\n",
      "  from ._conv import register_converters as _register_converters\n",
      "Using TensorFlow backend.\n"
     ]
    }
   ],
   "source": [
    "import numpy as np\n",
    "import matplotlib.pyplot as plt\n",
    "\n",
    "from keras.datasets import mnist\n",
    "\n",
    "from keras.layers import Dense, Activation\n",
    "from keras.layers import Input\n",
    "from keras.layers import concatenate, add\n",
    "from keras.models import Sequential\n",
    "from keras.models import Model\n",
    "\n",
    "from keras.optimizers import SGD, Adam\n",
    "\n",
    "from keras.utils import np_utils"
   ]
  },
  {
   "cell_type": "markdown",
   "metadata": {},
   "source": [
    "### 讀入資料"
   ]
  },
  {
   "cell_type": "code",
   "execution_count": 3,
   "metadata": {},
   "outputs": [],
   "source": [
    "(x_train, y_train), (x_test, y_test) = mnist.load_data()"
   ]
  },
  {
   "cell_type": "code",
   "execution_count": 4,
   "metadata": {},
   "outputs": [
    {
     "name": "stdout",
     "output_type": "stream",
     "text": [
      "訓練數量: 60000,大小: 28 x 28\n",
      "測試數量: 10000,大小: 28 x 28\n"
     ]
    }
   ],
   "source": [
    "print(\"訓練數量: %d,大小: %d x %d\" %x_train.shape)\n",
    "print(\"測試數量: %d,大小: %d x %d\" %x_test.shape)"
   ]
  },
  {
   "cell_type": "code",
   "execution_count": 5,
   "metadata": {},
   "outputs": [],
   "source": [
    "x_train = x_train.reshape(60000, 784)\n",
    "x_test  = x_test.reshape(10000, 784)\n",
    "y_train = np_utils.to_categorical(y_train, 10)\n",
    "y_test  = np_utils.to_categorical(y_test, 10)"
   ]
  },
  {
   "cell_type": "code",
   "execution_count": 6,
   "metadata": {},
   "outputs": [],
   "source": [
    "x_train1 = (x_train - x_train.min()) / (x_train.max() - x_train.min())\n",
    "x_test1 = (x_test - x_test.min()) / (x_test.max()- x_test.min())"
   ]
  },
  {
   "cell_type": "markdown",
   "metadata": {},
   "source": [
    "### function API"
   ]
  },
  {
   "cell_type": "code",
   "execution_count": 7,
   "metadata": {},
   "outputs": [],
   "source": [
    "import matplotlib.pyplot as plt\n",
    "import matplotlib.image as mpimg\n",
    "import numpy as np\n",
    "image = mpimg.imread(\"C:/Users/joan/Documents/python  course/functionalAPI.png\")"
   ]
  },
  {
   "cell_type": "code",
   "execution_count": 11,
   "metadata": {},
   "outputs": [
    {
     "name": "stderr",
     "output_type": "stream",
     "text": [
      "C:\\Program Files (x86)\\Microsoft Visual Studio\\Shared\\Anaconda3_64\\lib\\site-packages\\ipykernel_launcher.py:2: DeprecationWarning: `imresize` is deprecated!\n",
      "`imresize` is deprecated in SciPy 1.0.0, and will be removed in 1.2.0.\n",
      "Use ``skimage.transform.resize`` instead.\n",
      "  \n"
     ]
    },
    {
     "data": {
      "image/png": "[encoded data removed]",
      "text/plain": [
       "<Figure size 432x288 with 1 Axes>"
      ]
     },
     "metadata": {},
     "output_type": "display_data"
    }
   ],
   "source": [
    "from scipy import misc\n",
    "image_new_size = misc.imresize(image,(280,500)) \n",
    "\n",
    "plt.imshow(image_new_size)\n",
    "plt.axis('off')\n",
    "plt.show()"
   ]
  },
  {
   "cell_type": "code",
   "execution_count": 12,
   "metadata": {},
   "outputs": [],
   "source": [
    "f_1 = Dense(200, activation='relu')\n",
    "f_2 = Dense(200, activation='relu')\n",
    "f_3 = Dense(100, activation='elu')\n",
    "f_4 = Dense(100, activation='relu')\n",
    "f_5 = Dense(100, activation='elu')\n",
    "f_6 = Dense(100, activation='relu')\n",
    "f_7 = Dense(50, activation='relu')\n",
    "f_8 = Dense(150, activation='relu')\n",
    "f_9 = Dense(10, activation='softmax')"
   ]
  },
  {
   "cell_type": "code",
   "execution_count": 13,
   "metadata": {},
   "outputs": [],
   "source": [
    "x = Input(shape=(784,))"
   ]
  },
  {
   "cell_type": "code",
   "execution_count": 14,
   "metadata": {},
   "outputs": [
    {
     "name": "stdout",
     "output_type": "stream",
     "text": [
      "WARNING:tensorflow:From C:\\Program Files (x86)\\Microsoft Visual Studio\\Shared\\Anaconda3_64\\lib\\site-packages\\tensorflow\\python\\framework\\op_def_library.py:263: colocate_with (from tensorflow.python.framework.ops) is deprecated and will be removed in a future version.\n",
      "Instructions for updating:\n",
      "Colocations handled automatically by placer.\n"
     ]
    }
   ],
   "source": [
    "h_1 = f_1(x)\n",
    "h_2 = f_2(x)\n",
    "h_3 = f_3(h_1)\n",
    "h_4 = f_4(h_1)\n",
    "h_5 = f_5(h_2)\n",
    "h_6 = f_6(h_2)\n",
    "u = concatenate([h_3, h_4,h_5,h_6])\n",
    "h_8 = f_7(u)\n",
    "h_9 = f_8(u)\n",
    "k = concatenate([h_8, h_9])\n",
    "y =f_9(k)"
   ]
  },
  {
   "cell_type": "code",
   "execution_count": 15,
   "metadata": {},
   "outputs": [
    {
     "name": "stdout",
     "output_type": "stream",
     "text": [
      "__________________________________________________________________________________________________\n",
      "Layer (type)                    Output Shape         Param #     Connected to                     \n",
      "==================================================================================================\n",
      "input_1 (InputLayer)            (None, 784)          0                                            \n",
      "__________________________________________________________________________________________________\n",
      "dense_1 (Dense)                 (None, 200)          157000      input_1[0][0]                    \n",
      "__________________________________________________________________________________________________\n",
      "dense_2 (Dense)                 (None, 200)          157000      input_1[0][0]                    \n",
      "__________________________________________________________________________________________________\n",
      "dense_3 (Dense)                 (None, 100)          20100       dense_1[0][0]                    \n",
      "__________________________________________________________________________________________________\n",
      "dense_4 (Dense)                 (None, 100)          20100       dense_1[0][0]                    \n",
      "__________________________________________________________________________________________________\n",
      "dense_5 (Dense)                 (None, 100)          20100       dense_2[0][0]                    \n",
      "__________________________________________________________________________________________________\n",
      "dense_6 (Dense)                 (None, 100)          20100       dense_2[0][0]                    \n",
      "__________________________________________________________________________________________________\n",
      "concatenate_1 (Concatenate)     (None, 400)          0           dense_3[0][0]                    \n",
      "                                                                 dense_4[0][0]                    \n",
      "                                                                 dense_5[0][0]                    \n",
      "                                                                 dense_6[0][0]                    \n",
      "__________________________________________________________________________________________________\n",
      "dense_7 (Dense)                 (None, 50)           20050       concatenate_1[0][0]              \n",
      "__________________________________________________________________________________________________\n",
      "dense_8 (Dense)                 (None, 150)          60150       concatenate_1[0][0]              \n",
      "__________________________________________________________________________________________________\n",
      "concatenate_2 (Concatenate)     (None, 200)          0           dense_7[0][0]                    \n",
      "                                                                 dense_8[0][0]                    \n",
      "__________________________________________________________________________________________________\n",
      "dense_9 (Dense)                 (None, 10)           2010        concatenate_2[0][0]              \n",
      "==================================================================================================\n",
      "Total params: 476,610\n",
      "Trainable params: 476,610\n",
      "Non-trainable params: 0\n",
      "__________________________________________________________________________________________________\n"
     ]
    }
   ],
   "source": [
    "model = Model(x, y)\n",
    "model.summary()"
   ]
  },
  {
   "cell_type": "code",
   "execution_count": 13,
   "metadata": {},
   "outputs": [
    {
     "name": "stdout",
     "output_type": "stream",
     "text": [
      "WARNING:tensorflow:From C:\\Program Files (x86)\\Microsoft Visual Studio\\Shared\\Anaconda3_64\\lib\\site-packages\\tensorflow\\python\\ops\\math_ops.py:3066: to_int32 (from tensorflow.python.ops.math_ops) is deprecated and will be removed in a future version.\n",
      "Instructions for updating:\n",
      "Use tf.cast instead.\n",
      "Epoch 1/50\n",
      "60000/60000 [==============================] - 6s 102us/step - loss: 0.0888 - acc: 0.1736\n",
      "Epoch 2/50\n",
      "60000/60000 [==============================] - 6s 92us/step - loss: 0.0859 - acc: 0.3047\n",
      "Epoch 3/50\n",
      "60000/60000 [==============================] - 5s 89us/step - loss: 0.0824 - acc: 0.4527\n",
      "Epoch 4/50\n",
      "60000/60000 [==============================] - 5s 90us/step - loss: 0.0775 - acc: 0.5197\n",
      "Epoch 5/50\n",
      "60000/60000 [==============================] - 6s 93us/step - loss: 0.0714 - acc: 0.5768\n",
      "Epoch 6/50\n",
      "60000/60000 [==============================] - 5s 91us/step - loss: 0.0644 - acc: 0.6322\n",
      "Epoch 7/50\n",
      "60000/60000 [==============================] - 5s 91us/step - loss: 0.0572 - acc: 0.6733\n",
      "Epoch 8/50\n",
      "60000/60000 [==============================] - 5s 87us/step - loss: 0.0507 - acc: 0.7153\n",
      "Epoch 9/50\n",
      "60000/60000 [==============================] - 5s 89us/step - loss: 0.0450 - acc: 0.7521\n",
      "Epoch 10/50\n",
      "60000/60000 [==============================] - 5s 90us/step - loss: 0.0401 - acc: 0.7861\n",
      "Epoch 11/50\n",
      "60000/60000 [==============================] - 6s 92us/step - loss: 0.0360 - acc: 0.8162\n",
      "Epoch 12/50\n",
      "60000/60000 [==============================] - 5s 91us/step - loss: 0.0327 - acc: 0.8349\n",
      "Epoch 13/50\n",
      "60000/60000 [==============================] - 5s 91us/step - loss: 0.0300 - acc: 0.8460\n",
      "Epoch 14/50\n",
      "60000/60000 [==============================] - 5s 90us/step - loss: 0.0278 - acc: 0.8547\n",
      "Epoch 15/50\n",
      "60000/60000 [==============================] - 5s 89us/step - loss: 0.0261 - acc: 0.8615\n",
      "Epoch 16/50\n",
      "60000/60000 [==============================] - 5s 91us/step - loss: 0.0246 - acc: 0.8665\n",
      "Epoch 17/50\n",
      "60000/60000 [==============================] - 6s 92us/step - loss: 0.0234 - acc: 0.8704\n",
      "Epoch 18/50\n",
      "60000/60000 [==============================] - 5s 92us/step - loss: 0.0224 - acc: 0.8746\n",
      "Epoch 19/50\n",
      "60000/60000 [==============================] - 5s 92us/step - loss: 0.0215 - acc: 0.8786\n",
      "Epoch 20/50\n",
      "60000/60000 [==============================] - 5s 91us/step - loss: 0.0208 - acc: 0.8814\n",
      "Epoch 21/50\n",
      "60000/60000 [==============================] - 6s 92us/step - loss: 0.0201 - acc: 0.8841\n",
      "Epoch 22/50\n",
      "60000/60000 [==============================] - 5s 91us/step - loss: 0.0196 - acc: 0.8861\n",
      "Epoch 23/50\n",
      "60000/60000 [==============================] - 5s 91us/step - loss: 0.0190 - acc: 0.8886\n",
      "Epoch 24/50\n",
      "60000/60000 [==============================] - 5s 90us/step - loss: 0.0186 - acc: 0.8906\n",
      "Epoch 25/50\n",
      "60000/60000 [==============================] - 5s 91us/step - loss: 0.0182 - acc: 0.8923\n",
      "Epoch 26/50\n",
      "60000/60000 [==============================] - 6s 92us/step - loss: 0.0178 - acc: 0.8943\n",
      "Epoch 27/50\n",
      "60000/60000 [==============================] - 5s 90us/step - loss: 0.0174 - acc: 0.8956: 1s \n",
      "Epoch 28/50\n",
      "60000/60000 [==============================] - 5s 88us/step - loss: 0.0171 - acc: 0.8974\n",
      "Epoch 29/50\n",
      "60000/60000 [==============================] - 5s 88us/step - loss: 0.0168 - acc: 0.8990\n",
      "Epoch 30/50\n",
      "60000/60000 [==============================] - 5s 91us/step - loss: 0.0165 - acc: 0.8999\n",
      "Epoch 31/50\n",
      "60000/60000 [==============================] - 5s 92us/step - loss: 0.0163 - acc: 0.9013\n",
      "Epoch 32/50\n",
      "60000/60000 [==============================] - 5s 90us/step - loss: 0.0160 - acc: 0.9020\n",
      "Epoch 33/50\n",
      "60000/60000 [==============================] - 6s 92us/step - loss: 0.0158 - acc: 0.9033\n",
      "Epoch 34/50\n",
      "60000/60000 [==============================] - 5s 91us/step - loss: 0.0156 - acc: 0.9045\n",
      "Epoch 35/50\n",
      "60000/60000 [==============================] - 5s 92us/step - loss: 0.0154 - acc: 0.9055\n",
      "Epoch 36/50\n",
      "60000/60000 [==============================] - 6s 92us/step - loss: 0.0152 - acc: 0.9066\n",
      "Epoch 37/50\n",
      "60000/60000 [==============================] - 5s 91us/step - loss: 0.0151 - acc: 0.9071\n",
      "Epoch 38/50\n",
      "60000/60000 [==============================] - 6s 92us/step - loss: 0.0149 - acc: 0.9081\n",
      "Epoch 39/50\n",
      "60000/60000 [==============================] - 6s 93us/step - loss: 0.0147 - acc: 0.9088\n",
      "Epoch 40/50\n",
      "60000/60000 [==============================] - 6s 92us/step - loss: 0.0146 - acc: 0.9094\n",
      "Epoch 41/50\n",
      "60000/60000 [==============================] - 6s 93us/step - loss: 0.0144 - acc: 0.9100\n",
      "Epoch 42/50\n",
      "60000/60000 [==============================] - 6s 92us/step - loss: 0.0143 - acc: 0.9110\n",
      "Epoch 43/50\n",
      "60000/60000 [==============================] - 6s 92us/step - loss: 0.0141 - acc: 0.9114\n",
      "Epoch 44/50\n",
      "60000/60000 [==============================] - 6s 93us/step - loss: 0.0140 - acc: 0.9124\n",
      "Epoch 45/50\n",
      "60000/60000 [==============================] - 6s 93us/step - loss: 0.0139 - acc: 0.9130\n",
      "Epoch 46/50\n",
      "60000/60000 [==============================] - 5s 91us/step - loss: 0.0138 - acc: 0.9135\n",
      "Epoch 47/50\n",
      "60000/60000 [==============================] - 6s 92us/step - loss: 0.0136 - acc: 0.9142\n",
      "Epoch 48/50\n",
      "60000/60000 [==============================] - 5s 91us/step - loss: 0.0135 - acc: 0.9152\n",
      "Epoch 49/50\n",
      "60000/60000 [==============================] - 5s 92us/step - loss: 0.0134 - acc: 0.9153\n",
      "Epoch 50/50\n",
      "60000/60000 [==============================] - 6s 92us/step - loss: 0.0133 - acc: 0.9159\n"
     ]
    }
   ],
   "source": [
    "model.compile(loss='mse', optimizer=SGD(lr=0.01), metrics=['accuracy'])\n",
    "X = model.fit(x_train1, y_train, batch_size=100, epochs=50)"
   ]
  },
  {
   "cell_type": "code",
   "execution_count": 15,
   "metadata": {},
   "outputs": [
    {
     "name": "stdout",
     "output_type": "stream",
     "text": [
      "10000/10000 [==============================] - 1s 70us/step\n",
      "model:\n",
      "loss: 0.012719987373962066\n",
      "正確率: 0.9214\n"
     ]
    }
   ],
   "source": [
    "score = model.evaluate(x_test1, y_test)\n",
    "print('model:')\n",
    "print('loss:', score[0])\n",
    "print('正確率:', score[1])"
   ]
  },
  {
   "cell_type": "code",
   "execution_count": 16,
   "metadata": {},
   "outputs": [
    {
     "data": {
      "text/plain": [
       "Text(0,0.5,'accuracy')"
      ]
     },
     "execution_count": 16,
     "metadata": {},
     "output_type": "execute_result"
    },
    {
     "data": {
      "image/png": "[encoded data removed]",
      "text/plain": [
       "<Figure size 432x288 with 1 Axes>"
      ]
     },
     "metadata": {},
     "output_type": "display_data"
    }
   ],
   "source": [
    "plt.plot(X.history['acc'])\n",
    "plt.xlabel('epoch')\n",
    "plt.ylabel('accuracy')"
   ]
  },
  {
   "cell_type": "code",
   "execution_count": 17,
   "metadata": {},
   "outputs": [
    {
     "data": {
      "text/plain": [
       "Text(0,0.5,'Loss')"
      ]
     },
     "execution_count": 17,
     "metadata": {},
     "output_type": "execute_result"
    },
    {
     "data": {
      "image/png": "[encoded data removed]",
      "text/plain": [
       "<Figure size 432x288 with 1 Axes>"
      ]
     },
     "metadata": {},
     "output_type": "display_data"
    }
   ],
   "source": [
    "plt.plot(X.history['loss'])\n",
    "plt.xlabel('epoch')\n",
    "plt.ylabel('Loss')"
   ]
  },
  {
   "cell_type": "code",
   "execution_count": null,
   "metadata": {},
   "outputs": [],
   "source": []
  },
  {
   "cell_type": "code",
   "execution_count": null,
   "metadata": {},
   "outputs": [],
   "source": []
  }
 ],
 "metadata": {
  "kernelspec": {
   "display_name": "Python 3",
   "language": "python",
   "name": "python3"
  },
  "language_info": {
   "codemirror_mode": {
    "name": "ipython",
    "version": 3
   },
   "file_extension": ".py",
   "mimetype": "text/x-python",
   "name": "python",
   "nbconvert_exporter": "python",
   "pygments_lexer": "ipython3",
   "version": "3.6.5"
  }
 },
 "nbformat": 4,
 "nbformat_minor": 2
}
